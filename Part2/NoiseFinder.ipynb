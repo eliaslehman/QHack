{
  "cells": [
    {
      "cell_type": "code",
      "source": [
        "!pip install pylatexenc\r\n",
        "!pip install qiskit-aer\r\n",
        "import qiskit\r\n",
        "import qiskit_ionq"
      ],
      "outputs": [
        {
          "output_type": "stream",
          "name": "stdout",
          "text": "Defaulting to user installation because normal site-packages is not writeable\nRequirement already satisfied: pylatexenc in ./.local/lib/python3.7/site-packages (2.10)\nDefaulting to user installation because normal site-packages is not writeable\nRequirement already satisfied: qiskit-aer in ./.local/lib/python3.7/site-packages (0.10.4)\nRequirement already satisfied: qiskit-terra>=0.19.1 in /usr/local/lib/python3.7/site-packages (from qiskit-aer) (0.20.0)\nRequirement already satisfied: numpy>=1.16.3 in /usr/local/lib/python3.7/site-packages (from qiskit-aer) (1.21.5)\nRequirement already satisfied: scipy>=1.0 in /usr/local/lib/python3.7/site-packages (from qiskit-aer) (1.7.3)\nRequirement already satisfied: dill>=0.3 in /usr/local/lib/python3.7/site-packages (from qiskit-terra>=0.19.1->qiskit-aer) (0.3.4)\nRequirement already satisfied: ply>=3.10 in /usr/local/lib/python3.7/site-packages (from qiskit-terra>=0.19.1->qiskit-aer) (3.11)\nRequirement already satisfied: retworkx>=0.11.0 in /usr/local/lib/python3.7/site-packages (from qiskit-terra>=0.19.1->qiskit-aer) (0.11.0)\nRequirement already satisfied: psutil>=5 in /usr/local/lib/python3.7/site-packages (from qiskit-terra>=0.19.1->qiskit-aer) (5.9.0)\nRequirement already satisfied: python-constraint>=1.4 in /usr/local/lib/python3.7/site-packages (from qiskit-terra>=0.19.1->qiskit-aer) (1.4.0)\nRequirement already satisfied: stevedore>=3.0.0 in /usr/local/lib/python3.7/site-packages (from qiskit-terra>=0.19.1->qiskit-aer) (3.5.0)\nRequirement already satisfied: python-dateutil>=2.8.0 in /usr/local/lib/python3.7/site-packages (from qiskit-terra>=0.19.1->qiskit-aer) (2.8.2)\nRequirement already satisfied: sympy>=1.3 in /usr/local/lib/python3.7/site-packages (from qiskit-terra>=0.19.1->qiskit-aer) (1.10.1)\nRequirement already satisfied: tweedledum<2.0,>=1.1 in /usr/local/lib/python3.7/site-packages (from qiskit-terra>=0.19.1->qiskit-aer) (1.1.1)\nRequirement already satisfied: symengine>=0.9 in /usr/local/lib/python3.7/site-packages (from qiskit-terra>=0.19.1->qiskit-aer) (0.9.2)\nRequirement already satisfied: six>=1.5 in /usr/local/lib/python3.7/site-packages (from python-dateutil>=2.8.0->qiskit-terra>=0.19.1->qiskit-aer) (1.16.0)\nRequirement already satisfied: pbr!=2.1.0,>=2.0.0 in /usr/local/lib/python3.7/site-packages (from stevedore>=3.0.0->qiskit-terra>=0.19.1->qiskit-aer) (5.8.1)\nRequirement already satisfied: importlib-metadata>=1.7.0 in /usr/local/lib/python3.7/site-packages (from stevedore>=3.0.0->qiskit-terra>=0.19.1->qiskit-aer) (2.1.3)\nRequirement already satisfied: mpmath>=0.19 in /usr/local/lib/python3.7/site-packages (from sympy>=1.3->qiskit-terra>=0.19.1->qiskit-aer) (1.2.1)\nRequirement already satisfied: zipp>=0.5 in /usr/local/lib/python3.7/site-packages (from importlib-metadata>=1.7.0->stevedore>=3.0.0->qiskit-terra>=0.19.1->qiskit-aer) (3.7.0)\n"
        }
      ],
      "execution_count": 104,
      "metadata": {
        "jupyter": {
          "source_hidden": false,
          "outputs_hidden": false
        },
        "nteract": {
          "transient": {
            "deleting": false
          }
        }
      }
    },
    {
      "cell_type": "code",
      "source": [
        "import numpy as np\r\n",
        "from azure.quantum import Workspace\r\n",
        "from azure.quantum.qiskit import AzureQuantumProvider\r\n",
        "provider = AzureQuantumProvider (\r\n",
        "    resource_id = \"/subscriptions/9f94f9e5-0590-4d7d-8d62-d59a9fd5073e/resourceGroups/AzureQuantum/providers/Microsoft.Quantum/Workspaces/Elias-Lehman-Quantum\",\r\n",
        "    location = \"westus\"\r\n",
        ")\r\n",
        "from qiskit import assemble, Aer\r\n",
        "from qiskit import QuantumCircuit\r\n",
        "import matplotlib.pyplot as plt\r\n",
        "from qiskit.tools.monitor import job_monitor\r\n",
        "import qiskit.quantum_info as qi\r\n",
        "\r\n",
        "print(\"This workspace's targets:\")\r\n",
        "for backend in provider.backends():\r\n",
        "    print(\"- \" + backend.name())"
      ],
      "outputs": [
        {
          "output_type": "stream",
          "name": "stdout",
          "text": "This workspace's targets:\n- ionq.qpu\n- ionq.simulator\n- quantinuum.hqs-lt-s1\n- quantinuum.hqs-lt-s1-apival\n- quantinuum.hqs-lt-s2\n- quantinuum.hqs-lt-s2-apival\n- quantinuum.hqs-lt-s1-sim\n- quantinuum.hqs-lt-s2-sim\n"
        }
      ],
      "execution_count": 146,
      "metadata": {
        "jupyter": {
          "source_hidden": false,
          "outputs_hidden": false
        },
        "nteract": {
          "transient": {
            "deleting": false
          }
        }
      }
    },
    {
      "cell_type": "code",
      "source": [
        "#Gets X-gate error of particular backend\r\n",
        "def getXerr(target, shots):\r\n",
        "    xcircuit = QuantumCircuit(1,1)\r\n",
        "\r\n",
        "    #We expect X on |0> to output |1>\r\n",
        "    xcircuit.x(0)\r\n",
        "    xcircuit.measure(0,0)\r\n",
        "\r\n",
        "    backend = provider.get_backend(target)\r\n",
        "    job = backend.run(xcircuit, count=shots)\r\n",
        "    print(\"Job id:\", job.id())\r\n",
        "    results = job.result()\r\n",
        "    counts = results.get_counts()\r\n",
        "    return (1-counts['1']/shots)\r\n",
        "\r\n",
        "#Getting Y-gate error \r\n",
        "def getYerr(target, shots):\r\n",
        "    ycircuit = QuantumCircuit(1,1)\r\n",
        "\r\n",
        "    #We look for bit-flip errors in Y\r\n",
        "    ycircuit.y(0)\r\n",
        "    ycircuit.measure(0,0)\r\n",
        "\r\n",
        "    backend = provider.get_backend(target)\r\n",
        "    job = backend.run(ycircuit, count=shots)\r\n",
        "    print(\"Job id:\", job.id())\r\n",
        "    results = job.result()\r\n",
        "    counts = results.get_counts()\r\n",
        "    return (1-counts['0']/shots)\r\n",
        "\r\n",
        "#Getting Z-gate error\r\n",
        "def getZerr(target, shots):\r\n",
        "    zcircuit = QuantumCircuit(1,1)\r\n",
        "\r\n",
        "    #We expect HZH on |0> to output -|1>\r\n",
        "    zcircuit.h(0)\r\n",
        "    zcircuit.z(0)\r\n",
        "    zcircuit.h(0)\r\n",
        "    zcircuit.measure(0,0)\r\n",
        "\r\n",
        "    backend = provider.get_backend(target)\r\n",
        "    job = backend.run(zcircuit, count=shots)\r\n",
        "    print(\"Job id:\", job.id())\r\n",
        "    results = job.result()\r\n",
        "    counts = results.get_counts()\r\n",
        "    return (1-counts['1']/shots)"
      ],
      "outputs": [],
      "execution_count": 147,
      "metadata": {
        "jupyter": {
          "source_hidden": false,
          "outputs_hidden": false
        },
        "nteract": {
          "transient": {
            "deleting": false
          }
        }
      }
    },
    {
      "cell_type": "code",
      "source": [
        "#Get density matrix\r\n",
        "def getRho(qc):\r\n",
        "    rho = qi.DensityMatrix.from_instruction(qc)\r\n",
        "    return rho"
      ],
      "outputs": [],
      "execution_count": 148,
      "metadata": {
        "jupyter": {
          "source_hidden": false,
          "outputs_hidden": false
        },
        "nteract": {
          "transient": {
            "deleting": false
          }
        }
      }
    },
    {
      "cell_type": "code",
      "source": [
        "def NoiseFinder( qc, backend, gateSampleSize):\r\n",
        "    #Let's define the 2^n-1 X 2^n-1 Pauli matrices\r\n",
        "    X = np.matrix([[0,1],[1,0]])\r\n",
        "    Y = np.matrix([[0,-1j],[1j,0]])\r\n",
        "    Z = np.matrix([[1,0],[0,-1]])\r\n",
        "    for n in range(qc.num_qubits()):\r\n",
        "        X = np.tensordot(X, X, 0)\r\n",
        "        Y = np.tensordot(Y, Y, 0)\r\n",
        "        Z = np.tensordot(Z, Z, 0)\r\n",
        "\r\n",
        "\r\n",
        "    print(\"Backend error estimates of Pauli gates:\")\r\n",
        "    e_x = getXerr(backend, gateSampleSize)\r\n",
        "    print(f\"e_x: {e_x}\")\r\n",
        "    e_y = getYerr(backend, gateSampleSize)\r\n",
        "    print(f\"e_y: {e_y}\")\r\n",
        "    e_z = getZerr(backend, gateSampleSize)\r\n",
        "    print(f\"e_z: {e_z}\")\r\n",
        "\r\n",
        "    from qiskit.visualization import plot_state_city\r\n",
        "\r\n",
        "    #Get State Density Matrix:\r\n",
        "    rho = getRho(qc)\r\n",
        "\r\n",
        "    #Get Generalized Noise:\r\n",
        "    Xi = rho._multiply(1 - e_x - e_y - e_z) + e_x*np.matmul(X, np.matmul(rho, X.H())) + e_y*Y.tensor(rho.tensor(Y.H())) + e_z*Z.tensor(rho.tensor(Z.H()))\r\n",
        "    plot_state_city(Xi.data, title='Generalized Noise')"
      ],
      "outputs": [],
      "execution_count": 149,
      "metadata": {
        "jupyter": {
          "source_hidden": false,
          "outputs_hidden": false
        },
        "nteract": {
          "transient": {
            "deleting": false
          }
        }
      }
    },
    {
      "cell_type": "code",
      "source": [
        "#Define custom Quantum Circuit using Pauli gates below.\r\n",
        "# For Example:\r\n",
        "qc = QuantumCircuit(1)\r\n",
        "qc.x(0)\r\n",
        "qc.z(0)\r\n",
        "## Add Gates Here ##\r\n",
        "\r\n",
        "NoiseFinder(qc, \"ionq_qpu\", 1000)"
      ],
      "outputs": [
        {
          "output_type": "stream",
          "name": "stdout",
          "text": "Backend error estimates of Pauli gates:\nJob id: fec35b6c-b8ba-11ec-a603-00155d0c6290\n.................................................................................."
        }
      ],
      "execution_count": 103,
      "metadata": {
        "jupyter": {
          "source_hidden": false,
          "outputs_hidden": false
        },
        "nteract": {
          "transient": {
            "deleting": false
          }
        }
      }
    },
    {
      "cell_type": "code",
      "source": [
        "#This cell is for automated testing on multiple QPUs. \r\n",
        "#Uncomment the lines below to test both of Azur's availble quantum computers.\r\n",
        "#WARNING: May take a while...\r\n",
        "\r\n",
        "#Iterates through backends and prints results.\r\n",
        "\"\"\"\r\n",
        "backends=[\"quantinuum.hqs-lt-s2\", \"ionq_qpu\"]\r\n",
        "for qpu in backends:\r\n",
        "    getXerr(qpu)\r\n",
        "\"\"\""
      ],
      "outputs": [
        {
          "output_type": "execute_result",
          "execution_count": 102,
          "data": {
            "text/plain": "'\\nbackends=[\"quantinuum.hqs-lt-s2\", \"ionq_simulator\"]\\nfor qpu in backends:\\n    getXerr(qpu)\\n'"
          },
          "metadata": {}
        }
      ],
      "execution_count": 102,
      "metadata": {
        "jupyter": {
          "source_hidden": false,
          "outputs_hidden": false
        },
        "nteract": {
          "transient": {
            "deleting": false
          }
        }
      }
    }
  ],
  "metadata": {
    "language_info": {
      "name": "python",
      "version": "3.7.13",
      "mimetype": "text/x-python",
      "codemirror_mode": {
        "name": "ipython",
        "version": 3
      },
      "pygments_lexer": "ipython3",
      "nbconvert_exporter": "python",
      "file_extension": ".py"
    },
    "kernelspec": {
      "name": "python3",
      "language": "python",
      "display_name": "Python 3 (ipykernel)"
    },
    "kernel_info": {
      "name": "python3"
    },
    "nteract": {
      "version": "nteract-front-end@1.0.0"
    }
  },
  "nbformat": 4,
  "nbformat_minor": 0
}